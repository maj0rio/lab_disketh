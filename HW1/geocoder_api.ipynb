{
 "cells": [
  {
   "cell_type": "markdown",
   "id": "af6b7f09",
   "metadata": {},
   "source": [
    "В этом примере мы покажем, как с помощью API Яндекс.Геокодера можно преобразовать адреса в геокоординаты, с которым можно работать в [Datalens](https://datalens.yandex.ru)"
   ]
  },
  {
   "cell_type": "markdown",
   "id": "7716da26",
   "metadata": {},
   "source": [
    "## Установка библиотек\n",
    "\n",
    " * requests для API Геокодера\n",
    " * clickhouse-driver для Clickhouse"
   ]
  },
  {
   "cell_type": "code",
   "execution_count": 1,
   "id": "762e8efd",
   "metadata": {},
   "outputs": [
    {
     "name": "stdout",
     "output_type": "stream",
     "text": [
      "Requirement already satisfied: requests in ./.venv/lib/python3.11/site-packages (2.31.0)\n",
      "Requirement already satisfied: charset-normalizer<4,>=2 in ./.venv/lib/python3.11/site-packages (from requests) (3.2.0)\n",
      "Requirement already satisfied: idna<4,>=2.5 in ./.venv/lib/python3.11/site-packages (from requests) (3.4)\n",
      "Requirement already satisfied: urllib3<3,>=1.21.1 in ./.venv/lib/python3.11/site-packages (from requests) (2.0.5)\n",
      "Requirement already satisfied: certifi>=2017.4.17 in ./.venv/lib/python3.11/site-packages (from requests) (2023.7.22)\n",
      "Note: you may need to restart the kernel to use updated packages.\n",
      "Requirement already satisfied: pandas in ./.venv/lib/python3.11/site-packages (2.1.0)\n",
      "Requirement already satisfied: numpy>=1.23.2 in ./.venv/lib/python3.11/site-packages (from pandas) (1.26.0)\n",
      "Requirement already satisfied: python-dateutil>=2.8.2 in ./.venv/lib/python3.11/site-packages (from pandas) (2.8.2)\n",
      "Requirement already satisfied: pytz>=2020.1 in ./.venv/lib/python3.11/site-packages (from pandas) (2023.3.post1)\n",
      "Requirement already satisfied: tzdata>=2022.1 in ./.venv/lib/python3.11/site-packages (from pandas) (2023.3)\n",
      "Requirement already satisfied: six>=1.5 in ./.venv/lib/python3.11/site-packages (from python-dateutil>=2.8.2->pandas) (1.16.0)\n",
      "Note: you may need to restart the kernel to use updated packages.\n"
     ]
    }
   ],
   "source": [
    "%pip install requests\n",
    "%pip install pandas"
   ]
  },
  {
   "cell_type": "code",
   "execution_count": 2,
   "id": "c05d836f",
   "metadata": {},
   "outputs": [
    {
     "name": "stdout",
     "output_type": "stream",
     "text": [
      "Requirement already satisfied: clickhouse-driver in ./.venv/lib/python3.11/site-packages (0.2.6)\n",
      "Requirement already satisfied: pytz in ./.venv/lib/python3.11/site-packages (from clickhouse-driver) (2023.3.post1)\n",
      "Requirement already satisfied: tzlocal in ./.venv/lib/python3.11/site-packages (from clickhouse-driver) (5.0.1)\n",
      "Note: you may need to restart the kernel to use updated packages.\n"
     ]
    }
   ],
   "source": [
    "%pip install clickhouse-driver"
   ]
  },
  {
   "cell_type": "markdown",
   "id": "c2c07183",
   "metadata": {},
   "source": [
    "## Получение ключа для API Геокодера\n",
    "\n",
    "В переменную API_KEY нужно записать свой ключ для API Геокодера.\n",
    "Получить ключ можно по [ссылке](https://yandex.ru/dev/maps/geocoder/)"
   ]
  },
  {
   "cell_type": "code",
   "execution_count": 3,
   "id": "6ce89553",
   "metadata": {},
   "outputs": [],
   "source": [
    "\n",
    "API_KEY = '5a59654e-14a4-4b47-8c97-48976539273f'\n"
   ]
  },
  {
   "cell_type": "markdown",
   "id": "c77a7ea8",
   "metadata": {},
   "source": [
    "## Работа с API Геокодера\n",
    "\n",
    "Напишем небольшой класс для работы с Геокодером"
   ]
  },
  {
   "cell_type": "code",
   "execution_count": 4,
   "id": "c09d95ed",
   "metadata": {},
   "outputs": [],
   "source": [
    "import requests\n",
    "from dataclasses import dataclass\n",
    "\n",
    "@dataclass\n",
    "class YandexGeocoder:\n",
    "    api_key: str\n",
    "    geocoder_url: str = 'https://geocode-maps.yandex.ru/1.x'\n",
    "\n",
    "    def adress_to_geopoint(self, address: str) -> str:\n",
    "        \"\"\"\n",
    "        Преобразование адреса в геокоординаты в формате Datalens\n",
    "        \"\"\"\n",
    "        response = requests.get(self.geocoder_url, params={\n",
    "            'apikey': self.api_key,\n",
    "            'geocode': address,\n",
    "            'format': 'json',\n",
    "        })\n",
    "        response.raise_for_status()\n",
    "\n",
    "        result = response.json()['response']['GeoObjectCollection']['featureMember']\n",
    "        if not result:\n",
    "            return None\n",
    "\n",
    "        lat, lon = result[0]['GeoObject']['Point']['pos'].split(' ')\n",
    "        return self._to_datalens_format(lon, lat)\n",
    "    \n",
    "    def _to_datalens_format(self, lon, lat):\n",
    "        return f'[{lon},{lat}]'"
   ]
  },
  {
   "cell_type": "markdown",
   "id": "72753994",
   "metadata": {},
   "source": [
    "## Получение данных\n",
    "\n",
    "Будем работать с данными из демонстрационного Clickhouse [Datalens](https://datalens.yandex.ru).\n",
    "\n",
    "На первом шаге подготовим клиент Clickhouse"
   ]
  },
  {
   "cell_type": "code",
   "execution_count": 5,
   "id": "a0d27692",
   "metadata": {},
   "outputs": [],
   "source": [
    "from clickhouse_driver import Client as CHClient\n",
    "\n",
    "ch_client = CHClient(\n",
    "    'rc1a-ckg8nrosr2lim5iz.mdb.yandexcloud.net',\n",
    "    user='samples_ro',\n",
    "    password='MsgfcjEhJk',\n",
    "    database='samples',\n",
    "    port=9440,\n",
    "    secure=True,\n",
    ")"
   ]
  },
  {
   "cell_type": "markdown",
   "id": "c5d2837a",
   "metadata": {},
   "source": [
    "Затем выгрузим данные из таблицы в переменную ch_data"
   ]
  },
  {
   "cell_type": "code",
   "execution_count": 6,
   "id": "d54f6eb6",
   "metadata": {},
   "outputs": [
    {
     "data": {
      "text/plain": [
       "['Москва',\n",
       " 'Ростов',\n",
       " 'Ярославль',\n",
       " 'Ярославль (деревня)',\n",
       " 'Ливны',\n",
       " 'Казань',\n",
       " 'Рыбинск',\n",
       " 'Tokyo',\n",
       " 'Брейтово',\n",
       " 'Санкт-Петербург',\n",
       " 'Нижний Новгород',\n",
       " 'Уфа',\n",
       " 'Саратов',\n",
       " 'Омск',\n",
       " 'Ступино',\n",
       " 'Кисловодск']"
      ]
     },
     "execution_count": 6,
     "metadata": {},
     "output_type": "execute_result"
    }
   ],
   "source": [
    "import pandas as pd\n",
    "all_files = [\"out.csv\"]\n",
    "df = pd.concat((pd.read_csv(f) for f in all_files), ignore_index=True)\n",
    "used = set()\n",
    "ch_data = []\n",
    "for row in df['city']:\n",
    "    if isinstance(row, str) and row not in used:\n",
    "        ch_data.append(row)\n",
    "        used.add(row)\n",
    "    \n",
    "ch_data    "
   ]
  },
  {
   "cell_type": "code",
   "execution_count": 7,
   "id": "e7e43328",
   "metadata": {},
   "outputs": [],
   "source": [
    " \n",
    "for i in range(len(ch_data)):\n",
    "    ch_data[i] = \"Russia, \" + ch_data[i]\n"
   ]
  },
  {
   "cell_type": "code",
   "execution_count": 8,
   "id": "705a87cc",
   "metadata": {},
   "outputs": [
    {
     "data": {
      "text/plain": [
       "['Russia, Москва',\n",
       " 'Russia, Ростов',\n",
       " 'Russia, Ярославль',\n",
       " 'Russia, Ярославль (деревня)',\n",
       " 'Russia, Ливны',\n",
       " 'Russia, Казань',\n",
       " 'Russia, Рыбинск',\n",
       " 'Russia, Tokyo',\n",
       " 'Russia, Брейтово',\n",
       " 'Russia, Санкт-Петербург',\n",
       " 'Russia, Нижний Новгород',\n",
       " 'Russia, Уфа',\n",
       " 'Russia, Саратов',\n",
       " 'Russia, Омск',\n",
       " 'Russia, Ступино',\n",
       " 'Russia, Кисловодск']"
      ]
     },
     "execution_count": 8,
     "metadata": {},
     "output_type": "execute_result"
    }
   ],
   "source": [
    "ch_data"
   ]
  },
  {
   "cell_type": "markdown",
   "id": "09c92983",
   "metadata": {},
   "source": [
    "## Геокодирование\n",
    "\n",
    "Преобразуем адреса магазинов из колонки ShopAddress в геокоординаты"
   ]
  },
  {
   "cell_type": "code",
   "execution_count": 9,
   "id": "e01d79b3",
   "metadata": {},
   "outputs": [
    {
     "name": "stdout",
     "output_type": "stream",
     "text": [
      "Requirement already satisfied: yandex-geocoder in ./.venv/lib/python3.11/site-packages (3.0.1)\n",
      "Requirement already satisfied: requests<3.0.0,>=2.28.1 in ./.venv/lib/python3.11/site-packages (from yandex-geocoder) (2.31.0)\n",
      "Requirement already satisfied: charset-normalizer<4,>=2 in ./.venv/lib/python3.11/site-packages (from requests<3.0.0,>=2.28.1->yandex-geocoder) (3.2.0)\n",
      "Requirement already satisfied: idna<4,>=2.5 in ./.venv/lib/python3.11/site-packages (from requests<3.0.0,>=2.28.1->yandex-geocoder) (3.4)\n",
      "Requirement already satisfied: urllib3<3,>=1.21.1 in ./.venv/lib/python3.11/site-packages (from requests<3.0.0,>=2.28.1->yandex-geocoder) (2.0.5)\n",
      "Requirement already satisfied: certifi>=2017.4.17 in ./.venv/lib/python3.11/site-packages (from requests<3.0.0,>=2.28.1->yandex-geocoder) (2023.7.22)\n",
      "Note: you may need to restart the kernel to use updated packages.\n"
     ]
    },
    {
     "data": {
      "text/plain": [
       "['Russia, Москва',\n",
       " 'Russia, Ростов',\n",
       " 'Russia, Ярославль',\n",
       " 'Russia, Ярославль (деревня)',\n",
       " 'Russia, Ливны',\n",
       " 'Russia, Казань',\n",
       " 'Russia, Рыбинск',\n",
       " 'Russia, Tokyo',\n",
       " 'Russia, Брейтово',\n",
       " 'Russia, Санкт-Петербург',\n",
       " 'Russia, Нижний Новгород',\n",
       " 'Russia, Уфа',\n",
       " 'Russia, Саратов',\n",
       " 'Russia, Омск',\n",
       " 'Russia, Ступино',\n",
       " 'Russia, Кисловодск']"
      ]
     },
     "execution_count": 9,
     "metadata": {},
     "output_type": "execute_result"
    }
   ],
   "source": [
    "%pip install yandex-geocoder\n",
    "from yandex_geocoder import Client\n",
    "\n",
    "geocoder = Client(api_key=API_KEY)\n",
    "ch_data"
   ]
  },
  {
   "cell_type": "code",
   "execution_count": 10,
   "id": "d6a42111",
   "metadata": {},
   "outputs": [
    {
     "name": "stdout",
     "output_type": "stream",
     "text": [
      "[[55.755819, 37.617644], [57.18587, 39.414526], [57.626559, 39.893813], [57.626559, 39.893813], [52.426549, 37.60805], [55.796127, 49.106414], [58.04864, 38.855711], [55.719815, 37.694064], [58.302689, 37.866666], [59.938676, 30.314494], [56.326797, 44.006516], [54.735152, 55.958736], [51.533562, 46.034266], [54.989347, 73.368221], [54.88628, 38.078237], [43.905518, 42.715718]]\n"
     ]
    }
   ],
   "source": [
    "encoded_data = []\n",
    "for adress in ch_data:\n",
    "    s = geocoder.coordinates(adress)\n",
    "    s = list(map(float, s[::-1]))\n",
    "    encoded_data.append(s)\n",
    "print(encoded_data)"
   ]
  },
  {
   "cell_type": "code",
   "execution_count": 11,
   "id": "41845ac7",
   "metadata": {},
   "outputs": [
    {
     "data": {
      "text/plain": [
       "16"
      ]
     },
     "execution_count": 11,
     "metadata": {},
     "output_type": "execute_result"
    }
   ],
   "source": [
    "len(encoded_data)"
   ]
  },
  {
   "cell_type": "code",
   "execution_count": 12,
   "id": "70cc21ad",
   "metadata": {},
   "outputs": [],
   "source": [
    "import pandas as pd"
   ]
  },
  {
   "cell_type": "code",
   "execution_count": 13,
   "id": "d43c9f10",
   "metadata": {},
   "outputs": [
    {
     "data": {
      "text/plain": [
       "[[55.755819, 37.617644],\n",
       " [57.18587, 39.414526],\n",
       " [57.626559, 39.893813],\n",
       " [57.626559, 39.893813],\n",
       " [52.426549, 37.60805],\n",
       " [55.796127, 49.106414],\n",
       " [58.04864, 38.855711],\n",
       " [55.719815, 37.694064],\n",
       " [58.302689, 37.866666],\n",
       " [59.938676, 30.314494],\n",
       " [56.326797, 44.006516],\n",
       " [54.735152, 55.958736],\n",
       " [51.533562, 46.034266],\n",
       " [54.989347, 73.368221],\n",
       " [54.88628, 38.078237],\n",
       " [43.905518, 42.715718]]"
      ]
     },
     "execution_count": 13,
     "metadata": {},
     "output_type": "execute_result"
    }
   ],
   "source": [
    "ch_data2 = [w[8:] for w in ch_data]\n",
    "encoded_data"
   ]
  },
  {
   "cell_type": "code",
   "execution_count": 14,
   "id": "982b429b",
   "metadata": {},
   "outputs": [
    {
     "data": {
      "text/html": [
       "<div>\n",
       "<style scoped>\n",
       "    .dataframe tbody tr th:only-of-type {\n",
       "        vertical-align: middle;\n",
       "    }\n",
       "\n",
       "    .dataframe tbody tr th {\n",
       "        vertical-align: top;\n",
       "    }\n",
       "\n",
       "    .dataframe thead th {\n",
       "        text-align: right;\n",
       "    }\n",
       "</style>\n",
       "<table border=\"1\" class=\"dataframe\">\n",
       "  <thead>\n",
       "    <tr style=\"text-align: right;\">\n",
       "      <th></th>\n",
       "      <th>город</th>\n",
       "      <th>координаты</th>\n",
       "    </tr>\n",
       "  </thead>\n",
       "  <tbody>\n",
       "    <tr>\n",
       "      <th>0</th>\n",
       "      <td>Москва</td>\n",
       "      <td>[55.755819, 37.617644]</td>\n",
       "    </tr>\n",
       "    <tr>\n",
       "      <th>1</th>\n",
       "      <td>Ростов</td>\n",
       "      <td>[57.18587, 39.414526]</td>\n",
       "    </tr>\n",
       "    <tr>\n",
       "      <th>2</th>\n",
       "      <td>Ярославль</td>\n",
       "      <td>[57.626559, 39.893813]</td>\n",
       "    </tr>\n",
       "    <tr>\n",
       "      <th>3</th>\n",
       "      <td>Ярославль (деревня)</td>\n",
       "      <td>[57.626559, 39.893813]</td>\n",
       "    </tr>\n",
       "    <tr>\n",
       "      <th>4</th>\n",
       "      <td>Ливны</td>\n",
       "      <td>[52.426549, 37.60805]</td>\n",
       "    </tr>\n",
       "    <tr>\n",
       "      <th>5</th>\n",
       "      <td>Казань</td>\n",
       "      <td>[55.796127, 49.106414]</td>\n",
       "    </tr>\n",
       "    <tr>\n",
       "      <th>6</th>\n",
       "      <td>Рыбинск</td>\n",
       "      <td>[58.04864, 38.855711]</td>\n",
       "    </tr>\n",
       "    <tr>\n",
       "      <th>7</th>\n",
       "      <td>Tokyo</td>\n",
       "      <td>[55.719815, 37.694064]</td>\n",
       "    </tr>\n",
       "    <tr>\n",
       "      <th>8</th>\n",
       "      <td>Брейтово</td>\n",
       "      <td>[58.302689, 37.866666]</td>\n",
       "    </tr>\n",
       "    <tr>\n",
       "      <th>9</th>\n",
       "      <td>Санкт-Петербург</td>\n",
       "      <td>[59.938676, 30.314494]</td>\n",
       "    </tr>\n",
       "    <tr>\n",
       "      <th>10</th>\n",
       "      <td>Нижний Новгород</td>\n",
       "      <td>[56.326797, 44.006516]</td>\n",
       "    </tr>\n",
       "    <tr>\n",
       "      <th>11</th>\n",
       "      <td>Уфа</td>\n",
       "      <td>[54.735152, 55.958736]</td>\n",
       "    </tr>\n",
       "    <tr>\n",
       "      <th>12</th>\n",
       "      <td>Саратов</td>\n",
       "      <td>[51.533562, 46.034266]</td>\n",
       "    </tr>\n",
       "    <tr>\n",
       "      <th>13</th>\n",
       "      <td>Омск</td>\n",
       "      <td>[54.989347, 73.368221]</td>\n",
       "    </tr>\n",
       "    <tr>\n",
       "      <th>14</th>\n",
       "      <td>Ступино</td>\n",
       "      <td>[54.88628, 38.078237]</td>\n",
       "    </tr>\n",
       "    <tr>\n",
       "      <th>15</th>\n",
       "      <td>Кисловодск</td>\n",
       "      <td>[43.905518, 42.715718]</td>\n",
       "    </tr>\n",
       "  </tbody>\n",
       "</table>\n",
       "</div>"
      ],
      "text/plain": [
       "                  город              координаты\n",
       "0                Москва  [55.755819, 37.617644]\n",
       "1                Ростов   [57.18587, 39.414526]\n",
       "2             Ярославль  [57.626559, 39.893813]\n",
       "3   Ярославль (деревня)  [57.626559, 39.893813]\n",
       "4                 Ливны   [52.426549, 37.60805]\n",
       "5                Казань  [55.796127, 49.106414]\n",
       "6               Рыбинск   [58.04864, 38.855711]\n",
       "7                 Tokyo  [55.719815, 37.694064]\n",
       "8              Брейтово  [58.302689, 37.866666]\n",
       "9       Санкт-Петербург  [59.938676, 30.314494]\n",
       "10      Нижний Новгород  [56.326797, 44.006516]\n",
       "11                  Уфа  [54.735152, 55.958736]\n",
       "12              Саратов  [51.533562, 46.034266]\n",
       "13                 Омск  [54.989347, 73.368221]\n",
       "14              Ступино   [54.88628, 38.078237]\n",
       "15           Кисловодск  [43.905518, 42.715718]"
      ]
     },
     "execution_count": 14,
     "metadata": {},
     "output_type": "execute_result"
    }
   ],
   "source": [
    "data = [[ch_data2[i], encoded_data[i]] for i in range(len(encoded_data))]\n",
    "df = pd.DataFrame(data, columns=['город', 'координаты'])\n",
    "df"
   ]
  },
  {
   "cell_type": "code",
   "execution_count": 15,
   "id": "90fc84e1",
   "metadata": {},
   "outputs": [],
   "source": [
    "df.to_csv(\"coord_city5.csv\")"
   ]
  },
  {
   "cell_type": "code",
   "execution_count": null,
   "id": "1ebda433-54cf-4a7e-8916-9c9a560164c0",
   "metadata": {},
   "outputs": [],
   "source": []
  }
 ],
 "metadata": {
  "kernelspec": {
   "display_name": "Python 3 (ipykernel)",
   "language": "python",
   "name": "python3"
  },
  "language_info": {
   "codemirror_mode": {
    "name": "ipython",
    "version": 3
   },
   "file_extension": ".py",
   "mimetype": "text/x-python",
   "name": "python",
   "nbconvert_exporter": "python",
   "pygments_lexer": "ipython3",
   "version": "3.11.5"
  }
 },
 "nbformat": 4,
 "nbformat_minor": 5
}
